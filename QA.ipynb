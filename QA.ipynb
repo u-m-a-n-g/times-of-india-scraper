{
 "cells": [
  {
   "cell_type": "code",
   "execution_count": 1,
   "metadata": {},
   "outputs": [],
   "source": [
    "import requests\n",
    "from bs4 import BeautifulSoup\n",
    "import lazynlp\n",
    "\n",
    "def load_article(url):\n",
    "    '''\n",
    "    Loads an article and returns the title,text\n",
    "    '''\n",
    "    page = requests.get(url)\n",
    "    soup = BeautifulSoup(page.content, 'html.parser')\n",
    "\n",
    "    title_html = soup.find_all('h1', class_='_23498')[0]\n",
    "    title_txt = lazynlp.clean_html(str(title_html))\n",
    "    content_html = soup.find_all('div', class_='_1_Akb')[0]\n",
    "    content_txt = lazynlp.clean_html(str(content_html))\n",
    "\n",
    "    return title_txt,content_txt\n",
    "        \n",
    "url = \"https://timesofindia.indiatimes.com/india/single-day-jump-of-24248-covid-19-cases-pushes-indias-tally-close-to-7-lakh-mark/articleshow/76807460.cms\"\n",
    "article = load_article(url)[1]"
   ]
  },
  {
   "cell_type": "code",
   "execution_count": 3,
   "metadata": {},
   "outputs": [],
   "source": [
    "import torch\n",
    "from transformers import BertForQuestionAnswering\n",
    "from transformers import BertTokenizer\n",
    "\n",
    "#Model\n",
    "model = BertForQuestionAnswering.from_pretrained('bert-large-uncased-whole-word-masking-finetuned-squad')\n",
    "\n",
    "#Tokenizer\n",
    "tokenizer = BertTokenizer.from_pretrained('bert-large-uncased-whole-word-masking-finetuned-squad')\n",
    "\n"
   ]
  },
  {
   "cell_type": "code",
   "execution_count": 13,
   "metadata": {},
   "outputs": [],
   "source": [
    "question = 'How many total deaths?'\n",
    "paragraph = article\n",
    "\n",
    "encoding = tokenizer.encode_plus(text=question,text_pair=paragraph)\n",
    "inputs = encoding['input_ids']  #Token embeddings\n",
    "sentence_embedding = encoding['token_type_ids']  #Segment embeddings\n",
    "tokens = tokenizer.convert_ids_to_tokens(inputs) #input tokens\n",
    "\n",
    "start_scores, end_scores = model(input_ids=torch.tensor([inputs]), token_type_ids=torch.tensor([sentence_embedding]))\n",
    "\n",
    "start_index = torch.argmax(start_scores)\n",
    "\n",
    "end_index = torch.argmax(end_scores)\n",
    "\n",
    "answer = ' '.join(tokens[start_index:end_index+1])\n",
    "corrected_answer = ''\n",
    "\n",
    "for word in answer.split():\n",
    "    \n",
    "    #If it's a subword token\n",
    "    if word[0:2] == '##':\n",
    "        corrected_answer += word[2:]\n",
    "    else:\n",
    "        corrected_answer += ' ' + word"
   ]
  },
  {
   "cell_type": "code",
   "execution_count": 14,
   "metadata": {},
   "outputs": [
    {
     "name": "stdout",
     "output_type": "stream",
     "text": [
      " 19 , 693\n",
      "19 , 69 ##3\n"
     ]
    }
   ],
   "source": [
    "print(corrected_answer)\n",
    "print(answer)"
   ]
  },
  {
   "cell_type": "code",
   "execution_count": 2,
   "metadata": {},
   "outputs": [
    {
     "name": "stdout",
     "output_type": "stream",
     "text": [
      "NEW DELHI: Another big single-day jump of 24,248  Covid-19 cases  took India's tally close to the 7-lakh mark on Monday, while the death toll due to the disease climbed to 19,693 with 425 new fatalities, according to the Union health ministry.  With this, the country has recorded over 20,000 cases of the infection for the fourth consecutive day.  India went past  Russia  on Sunday to become the third worst-hit nation by the Covid-19 pandemic. Only the US and  Brazil  are ahead of India in terms of total  coronavirus  infections.  According to the Monday morning update of the Union health ministry, a single-day jump of 24,248 Covid-19 cases pushed India's tally to 6,97,413.  With a steady rise, the number of recoveries stands at 4,24,432 in the country, while one patient has migrated. There are 2,53,287 active coronavirus cases in the country, the data showed.  \"Thus, 60.85 per cent of the patients have recovered so far,\" the ministry said.  The total number of confirmed cases also includes foreigners who tested positive in India.  According to the Indian Council of Medical Research (ICMR), a total of 99,69,662 samples were tested for the disease in the country till July 5, with 1,80,596 just on Sunday.\n"
     ]
    }
   ],
   "source": [
    "print(article)"
   ]
  },
  {
   "cell_type": "code",
   "execution_count": null,
   "metadata": {},
   "outputs": [],
   "source": []
  }
 ],
 "metadata": {
  "kernelspec": {
   "display_name": "Python 3",
   "language": "python",
   "name": "python3"
  },
  "language_info": {
   "codemirror_mode": {
    "name": "ipython",
    "version": 3
   },
   "file_extension": ".py",
   "mimetype": "text/x-python",
   "name": "python",
   "nbconvert_exporter": "python",
   "pygments_lexer": "ipython3",
   "version": "3.7.6"
  }
 },
 "nbformat": 4,
 "nbformat_minor": 4
}
